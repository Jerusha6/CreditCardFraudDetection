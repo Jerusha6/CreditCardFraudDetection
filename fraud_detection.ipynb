{
 "cells": [
  {
   "cell_type": "code",
   "execution_count": 1,
   "id": "aebb099e-1303-4428-b735-85c4bdeea0a2",
   "metadata": {},
   "outputs": [
    {
     "name": "stdout",
     "output_type": "stream",
     "text": [
      "   Unnamed: 0 trans_date_trans_time            cc_num  \\\n",
      "0           0   2019-01-01 00:00:18  2703186189652095   \n",
      "1           1   2019-01-01 00:00:44      630423337322   \n",
      "2           2   2019-01-01 00:00:51    38859492057661   \n",
      "3           3   2019-01-01 00:01:16  3534093764340240   \n",
      "4           4   2019-01-01 00:03:06   375534208663984   \n",
      "\n",
      "                             merchant       category     amt      first  \\\n",
      "0          fraud_Rippin, Kub and Mann       misc_net    4.97   Jennifer   \n",
      "1     fraud_Heller, Gutmann and Zieme    grocery_pos  107.23  Stephanie   \n",
      "2                fraud_Lind-Buckridge  entertainment  220.11     Edward   \n",
      "3  fraud_Kutch, Hermiston and Farrell  gas_transport   45.00     Jeremy   \n",
      "4                 fraud_Keeling-Crist       misc_pos   41.96      Tyler   \n",
      "\n",
      "      last gender                        street  ...      lat      long  \\\n",
      "0    Banks      F                561 Perry Cove  ...  36.0788  -81.1781   \n",
      "1     Gill      F  43039 Riley Greens Suite 393  ...  48.8878 -118.2105   \n",
      "2  Sanchez      M      594 White Dale Suite 530  ...  42.1808 -112.2620   \n",
      "3    White      M   9443 Cynthia Court Apt. 038  ...  46.2306 -112.1138   \n",
      "4   Garcia      M              408 Bradley Rest  ...  38.4207  -79.4629   \n",
      "\n",
      "   city_pop                                job         dob  \\\n",
      "0      3495          Psychologist, counselling  1988-03-09   \n",
      "1       149  Special educational needs teacher  1978-06-21   \n",
      "2      4154        Nature conservation officer  1962-01-19   \n",
      "3      1939                    Patent attorney  1967-01-12   \n",
      "4        99     Dance movement psychotherapist  1986-03-28   \n",
      "\n",
      "                          trans_num   unix_time  merch_lat  merch_long  \\\n",
      "0  0b242abb623afc578575680df30655b9  1325376018  36.011293  -82.048315   \n",
      "1  1f76529f8574734946361c461b024d99  1325376044  49.159047 -118.186462   \n",
      "2  a1a22d70485983eac12b5b88dad1cf95  1325376051  43.150704 -112.154481   \n",
      "3  6b849c168bdad6f867558c3793159a81  1325376076  47.034331 -112.561071   \n",
      "4  a41d7549acf90789359a9aa5346dcb46  1325376186  38.674999  -78.632459   \n",
      "\n",
      "   is_fraud  \n",
      "0         0  \n",
      "1         0  \n",
      "2         0  \n",
      "3         0  \n",
      "4         0  \n",
      "\n",
      "[5 rows x 23 columns]\n"
     ]
    }
   ],
   "source": [
    "# Import necessary libraries\n",
    "import pandas as pd\n",
    "from sklearn.preprocessing import StandardScaler\n",
    "\n",
    "# Load the dataset\n",
    "train_data_path = \"D:/MachineLearning/CreditCardFraudDetection/data/fraudTrain.csv\"  \n",
    "df = pd.read_csv(train_data_path)\n",
    "\n",
    "print(df.head())"
   ]
  },
  {
   "cell_type": "code",
   "execution_count": 2,
   "id": "a49a92e4-d657-4ff7-9492-3f29571f92d3",
   "metadata": {},
   "outputs": [
    {
     "name": "stdout",
     "output_type": "stream",
     "text": [
      "dataset shape: (1296675, 23)\n",
      "Columns: Index(['Unnamed: 0', 'trans_date_trans_time', 'cc_num', 'merchant', 'category',\n",
      "       'amt', 'first', 'last', 'gender', 'street', 'city', 'state', 'zip',\n",
      "       'lat', 'long', 'city_pop', 'job', 'dob', 'trans_num', 'unix_time',\n",
      "       'merch_lat', 'merch_long', 'is_fraud'],\n",
      "      dtype='object')\n"
     ]
    }
   ],
   "source": [
    "print(\"dataset shape:\",df.shape)\n",
    "print(\"Columns:\",df.columns)"
   ]
  },
  {
   "cell_type": "code",
   "execution_count": 3,
   "id": "7ef25ac5-f7b8-437f-b6e2-5589d0074eae",
   "metadata": {},
   "outputs": [
    {
     "name": "stdout",
     "output_type": "stream",
     "text": [
      "Missing Values:\n",
      " Unnamed: 0               0\n",
      "trans_date_trans_time    0\n",
      "cc_num                   0\n",
      "merchant                 0\n",
      "category                 0\n",
      "amt                      0\n",
      "first                    0\n",
      "last                     0\n",
      "gender                   0\n",
      "street                   0\n",
      "city                     0\n",
      "state                    0\n",
      "zip                      0\n",
      "lat                      0\n",
      "long                     0\n",
      "city_pop                 0\n",
      "job                      0\n",
      "dob                      0\n",
      "trans_num                0\n",
      "unix_time                0\n",
      "merch_lat                0\n",
      "merch_long               0\n",
      "is_fraud                 0\n",
      "dtype: int64\n"
     ]
    }
   ],
   "source": [
    "# Check for missing values\n",
    "print(\"Missing Values:\\n\", df.isnull().sum())\n"
   ]
  },
  {
   "cell_type": "code",
   "execution_count": 4,
   "id": "598c47b8-2c4c-416f-8495-e199aa5f1bb8",
   "metadata": {},
   "outputs": [
    {
     "name": "stdout",
     "output_type": "stream",
     "text": [
      "   Unnamed: 0  trans_date_trans_time            cc_num  merchant  category  \\\n",
      "0           0             1546300818  2703186189652095       514         8   \n",
      "1           1             1546300844      630423337322       241         4   \n",
      "2           2             1546300851    38859492057661       390         0   \n",
      "3           3             1546300876  3534093764340240       360         2   \n",
      "4           4             1546300986   375534208663984       297         9   \n",
      "\n",
      "      amt      first     last  gender  street  ...      lat      long  \\\n",
      "0    4.97   Jennifer    Banks       0     568  ...  36.0788  -81.1781   \n",
      "1  107.23  Stephanie     Gill       0     435  ...  48.8878 -118.2105   \n",
      "2  220.11     Edward  Sanchez       1     602  ...  42.1808 -112.2620   \n",
      "3   45.00     Jeremy    White       1     930  ...  46.2306 -112.1138   \n",
      "4   41.96      Tyler   Garcia       1     418  ...  38.4207  -79.4629   \n",
      "\n",
      "   city_pop  job         dob                         trans_num   unix_time  \\\n",
      "0      3495  370  1988-03-09  0b242abb623afc578575680df30655b9  1325376018   \n",
      "1       149  428  1978-06-21  1f76529f8574734946361c461b024d99  1325376044   \n",
      "2      4154  307  1962-01-19  a1a22d70485983eac12b5b88dad1cf95  1325376051   \n",
      "3      1939  328  1967-01-12  6b849c168bdad6f867558c3793159a81  1325376076   \n",
      "4        99  116  1986-03-28  a41d7549acf90789359a9aa5346dcb46  1325376186   \n",
      "\n",
      "   merch_lat  merch_long  is_fraud  \n",
      "0  36.011293  -82.048315         0  \n",
      "1  49.159047 -118.186462         0  \n",
      "2  43.150704 -112.154481         0  \n",
      "3  47.034331 -112.561071         0  \n",
      "4  38.674999  -78.632459         0  \n",
      "\n",
      "[5 rows x 23 columns]\n"
     ]
    }
   ],
   "source": [
    "# Convert 'trans_date_trans_time' (timestamp) to numeric Unix time\n",
    "df['trans_date_trans_time'] = pd.to_datetime(df['trans_date_trans_time'])\n",
    "\n",
    "# Convert to Unix time (in seconds)\n",
    "df['trans_date_trans_time'] = df['trans_date_trans_time'].values.astype('int64') // 10**9\n",
    "\n",
    "# Convert categorical columns (e.g., 'merchant', 'category', 'gender') to numeric using Label Encoding\n",
    "from sklearn.preprocessing import LabelEncoder\n",
    "\n",
    "# List of categorical columns\n",
    "categorical_columns = ['merchant', 'category', 'gender', 'street', 'city', 'state', 'job', 'zip']\n",
    "\n",
    "# Apply Label Encoding to each categorical column\n",
    "label_encoder = LabelEncoder()\n",
    "for column in categorical_columns:\n",
    "    df[column] = label_encoder.fit_transform(df[column])\n",
    "\n",
    "# Now, check the first few rows of the dataset after encoding\n",
    "print(df.head())\n"
   ]
  },
  {
   "cell_type": "code",
   "execution_count": 5,
   "id": "34bbf550-bc5c-42b4-802b-70702f979c91",
   "metadata": {},
   "outputs": [
    {
     "name": "stdout",
     "output_type": "stream",
     "text": [
      "Non-numeric columns: Index(['first', 'last', 'dob', 'trans_num'], dtype='object')\n"
     ]
    }
   ],
   "source": [
    "# Check columns with non-numeric values\n",
    "non_numeric_columns = df.select_dtypes(include=['object']).columns\n",
    "print(\"Non-numeric columns:\", non_numeric_columns)"
   ]
  },
  {
   "cell_type": "code",
   "execution_count": 6,
   "id": "af61ebf3-0ff2-4974-9dc9-4a5be137a5d0",
   "metadata": {},
   "outputs": [
    {
     "name": "stdout",
     "output_type": "stream",
     "text": [
      "   Unnamed: 0  trans_date_trans_time            cc_num  merchant  category  \\\n",
      "0           0             1546300818  2703186189652095       514         8   \n",
      "1           1             1546300844      630423337322       241         4   \n",
      "2           2             1546300851    38859492057661       390         0   \n",
      "3           3             1546300876  3534093764340240       360         2   \n",
      "4           4             1546300986   375534208663984       297         9   \n",
      "\n",
      "      amt  first  last  gender  street  ...      lat      long  city_pop  job  \\\n",
      "0    4.97    162    18       0     568  ...  36.0788  -81.1781      3495  370   \n",
      "1  107.23    309   157       0     435  ...  48.8878 -118.2105       149  428   \n",
      "2  220.11    115   381       1     602  ...  42.1808 -112.2620      4154  307   \n",
      "3   45.00    163   463       1     930  ...  46.2306 -112.1138      1939  328   \n",
      "4   41.96    336   149       1     418  ...  38.4207  -79.4629        99  116   \n",
      "\n",
      "   dob  trans_num   unix_time  merch_lat  merch_long  is_fraud  \n",
      "0  779      56438  1325376018  36.011293  -82.048315         0  \n",
      "1  607     159395  1325376044  49.159047 -118.186462         0  \n",
      "2  302     818703  1325376051  43.150704 -112.154481         0  \n",
      "3  397     544575  1325376076  47.034331 -112.561071         0  \n",
      "4  734     831111  1325376186  38.674999  -78.632459         0  \n",
      "\n",
      "[5 rows x 23 columns]\n"
     ]
    }
   ],
   "source": [
    "# Import the required library for Label Encoding\n",
    "from sklearn.preprocessing import LabelEncoder\n",
    "\n",
    "# Apply Label Encoding to each categorical column\n",
    "label_encoder = LabelEncoder()\n",
    "\n",
    "# Loop through each non-numeric column and apply Label Encoding\n",
    "for column in non_numeric_columns:\n",
    "    df[column] = label_encoder.fit_transform(df[column])\n",
    "\n",
    "# Check the first few rows after encoding\n",
    "print(df.head())"
   ]
  },
  {
   "cell_type": "code",
   "execution_count": 7,
   "id": "060748d6-62c1-4356-9e1e-50cc5c44bb15",
   "metadata": {},
   "outputs": [
    {
     "name": "stdout",
     "output_type": "stream",
     "text": [
      "Class distribution after SMOTE:\n",
      " is_fraud\n",
      "0    1289169\n",
      "1    1289169\n",
      "Name: count, dtype: int64\n"
     ]
    }
   ],
   "source": [
    "# Import the required library for SMOTE\n",
    "from imblearn.over_sampling import SMOTE\n",
    "\n",
    "# Separate features and target\n",
    "X = df.drop('is_fraud', axis=1)  # Features (excluding 'is_fraud')\n",
    "y = df['is_fraud']  # Target (the 'is_fraud' column)\n",
    "\n",
    "# Apply SMOTE to balance the dataset\n",
    "smote = SMOTE(random_state=42)\n",
    "X_res, y_res = smote.fit_resample(X, y)\n",
    "\n",
    "# Check the new class distribution\n",
    "print(\"Class distribution after SMOTE:\\n\", y_res.value_counts())\n"
   ]
  },
  {
   "cell_type": "code",
   "execution_count": 8,
   "id": "d9f2bc9e-7144-4c6b-a62a-87cf733f8d59",
   "metadata": {},
   "outputs": [
    {
     "name": "stdout",
     "output_type": "stream",
     "text": [
      "Training set shape: (2062670, 22)\n",
      "Testing set shape: (515668, 22)\n"
     ]
    }
   ],
   "source": [
    "# Import train_test_split\n",
    "from sklearn.model_selection import train_test_split\n",
    "\n",
    "# Split the data into training and testing sets\n",
    "X_train, X_test, y_train, y_test = train_test_split(X_res, y_res, test_size=0.2, random_state=42)\n",
    "\n",
    "# Check the shape of the split data\n",
    "print(\"Training set shape:\", X_train.shape)\n",
    "print(\"Testing set shape:\", X_test.shape)"
   ]
  },
  {
   "cell_type": "code",
   "execution_count": 9,
   "id": "22d03ef5-9a0b-4e76-94bf-e19bf241e7cd",
   "metadata": {
    "scrolled": true
   },
   "outputs": [
    {
     "name": "stderr",
     "output_type": "stream",
     "text": [
      "C:\\Users\\jerus_7625x1r\\AppData\\Local\\Programs\\Python\\Python312\\Lib\\site-packages\\sklearn\\metrics\\_classification.py:1565: UndefinedMetricWarning: Precision is ill-defined and being set to 0.0 in labels with no predicted samples. Use `zero_division` parameter to control this behavior.\n",
      "  _warn_prf(average, modifier, f\"{metric.capitalize()} is\", len(result))\n",
      "C:\\Users\\jerus_7625x1r\\AppData\\Local\\Programs\\Python\\Python312\\Lib\\site-packages\\sklearn\\metrics\\_classification.py:1565: UndefinedMetricWarning: Precision is ill-defined and being set to 0.0 in labels with no predicted samples. Use `zero_division` parameter to control this behavior.\n",
      "  _warn_prf(average, modifier, f\"{metric.capitalize()} is\", len(result))\n",
      "C:\\Users\\jerus_7625x1r\\AppData\\Local\\Programs\\Python\\Python312\\Lib\\site-packages\\sklearn\\metrics\\_classification.py:1565: UndefinedMetricWarning: Precision is ill-defined and being set to 0.0 in labels with no predicted samples. Use `zero_division` parameter to control this behavior.\n",
      "  _warn_prf(average, modifier, f\"{metric.capitalize()} is\", len(result))\n"
     ]
    },
    {
     "name": "stdout",
     "output_type": "stream",
     "text": [
      "Classification Report:\n",
      "               precision    recall  f1-score   support\n",
      "\n",
      "           0       0.50      1.00      0.67    257186\n",
      "           1       0.00      0.00      0.00    258482\n",
      "\n",
      "    accuracy                           0.50    515668\n",
      "   macro avg       0.25      0.50      0.33    515668\n",
      "weighted avg       0.25      0.50      0.33    515668\n",
      "\n",
      "Confusion Matrix:\n",
      " [[257186      0]\n",
      " [258482      0]]\n"
     ]
    }
   ],
   "source": [
    "# Import Logistic Regression and evaluation metrics\n",
    "from sklearn.linear_model import LogisticRegression\n",
    "from sklearn.metrics import classification_report, confusion_matrix\n",
    "\n",
    "# Initialize the Logistic Regression model\n",
    "model = LogisticRegression(max_iter=1000)\n",
    "\n",
    "# Train the model on the training data\n",
    "model.fit(X_train, y_train)\n",
    "\n",
    "# Make predictions on the test data\n",
    "y_pred = model.predict(X_test)\n",
    "\n",
    "# Evaluate the model\n",
    "print(\"Classification Report:\\n\", classification_report(y_test, y_pred))\n",
    "print(\"Confusion Matrix:\\n\", confusion_matrix(y_test, y_pred))"
   ]
  },
  {
   "cell_type": "code",
   "execution_count": 10,
   "id": "9cac3c7b-cff7-4619-ae8a-fb8c21971115",
   "metadata": {},
   "outputs": [
    {
     "name": "stdout",
     "output_type": "stream",
     "text": [
      "Classification Report for Random Forest:\n",
      "               precision    recall  f1-score   support\n",
      "\n",
      "           0       1.00      1.00      1.00    257186\n",
      "           1       1.00      1.00      1.00    258482\n",
      "\n",
      "    accuracy                           1.00    515668\n",
      "   macro avg       1.00      1.00      1.00    515668\n",
      "weighted avg       1.00      1.00      1.00    515668\n",
      "\n",
      "Confusion Matrix for Random Forest:\n",
      " [[256553    633]\n",
      " [    59 258423]]\n"
     ]
    }
   ],
   "source": [
    "# Import RandomForestClassifier\n",
    "from sklearn.ensemble import RandomForestClassifier\n",
    "\n",
    "# Initialize the Random Forest model\n",
    "rf_model = RandomForestClassifier(n_estimators=100, random_state=42)\n",
    "\n",
    "# Train the Random Forest model\n",
    "rf_model.fit(X_train, y_train)\n",
    "\n",
    "# Make predictions on the test data\n",
    "y_pred_rf = rf_model.predict(X_test)\n",
    "\n",
    "# Evaluate the model\n",
    "print(\"Classification Report for Random Forest:\\n\", classification_report(y_test, y_pred_rf))\n",
    "print(\"Confusion Matrix for Random Forest:\\n\", confusion_matrix(y_test, y_pred_rf))"
   ]
  },
  {
   "cell_type": "code",
   "execution_count": 12,
   "id": "b12848f4-bb76-4b6d-a7d3-2e4c474f1921",
   "metadata": {},
   "outputs": [
    {
     "data": {
      "text/plain": [
       "['fraud_detection.pkl']"
      ]
     },
     "execution_count": 12,
     "metadata": {},
     "output_type": "execute_result"
    }
   ],
   "source": [
    "# Import necessary libraries\n",
    "import joblib\n",
    "\n",
    "# Save the trained Random Forest model\n",
    "joblib.dump(rf_model, 'fraud_detection.pkl')"
   ]
  },
  {
   "cell_type": "code",
   "execution_count": null,
   "id": "0720dd8d-ed81-4bdb-b104-48d0bb2607b7",
   "metadata": {},
   "outputs": [],
   "source": []
  }
 ],
 "metadata": {
  "kernelspec": {
   "display_name": "Python 3 (ipykernel)",
   "language": "python",
   "name": "python3"
  },
  "language_info": {
   "codemirror_mode": {
    "name": "ipython",
    "version": 3
   },
   "file_extension": ".py",
   "mimetype": "text/x-python",
   "name": "python",
   "nbconvert_exporter": "python",
   "pygments_lexer": "ipython3",
   "version": "3.11.9"
  }
 },
 "nbformat": 4,
 "nbformat_minor": 5
}
